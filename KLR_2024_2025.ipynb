{
 "cells": [
  {
   "cell_type": "markdown",
   "metadata": {},
   "source": [
    "# Libraries"
   ]
  },
  {
   "cell_type": "code",
   "execution_count": 26,
   "metadata": {},
   "outputs": [],
   "source": [
    "import pandas as pd\n",
    "import numpy as np"
   ]
  },
  {
   "cell_type": "markdown",
   "metadata": {},
   "source": [
    "# Data wrangling"
   ]
  },
  {
   "cell_type": "code",
   "execution_count": 27,
   "metadata": {},
   "outputs": [
    {
     "data": {
      "text/html": [
       "<div>\n",
       "<style scoped>\n",
       "    .dataframe tbody tr th:only-of-type {\n",
       "        vertical-align: middle;\n",
       "    }\n",
       "\n",
       "    .dataframe tbody tr th {\n",
       "        vertical-align: top;\n",
       "    }\n",
       "\n",
       "    .dataframe thead th {\n",
       "        text-align: right;\n",
       "    }\n",
       "</style>\n",
       "<table border=\"1\" class=\"dataframe\">\n",
       "  <thead>\n",
       "    <tr style=\"text-align: right;\">\n",
       "      <th></th>\n",
       "      <th>Jahr</th>\n",
       "      <th>Monat</th>\n",
       "      <th>Besucher</th>\n",
       "      <th>Entleihungen</th>\n",
       "      <th>Teilnehmer</th>\n",
       "      <th>Azubi+Prak</th>\n",
       "    </tr>\n",
       "  </thead>\n",
       "  <tbody>\n",
       "    <tr>\n",
       "      <th>0</th>\n",
       "      <td>2024</td>\n",
       "      <td>Januar</td>\n",
       "      <td>65.661</td>\n",
       "      <td>150.471</td>\n",
       "      <td>5.809</td>\n",
       "      <td>18</td>\n",
       "    </tr>\n",
       "    <tr>\n",
       "      <th>1</th>\n",
       "      <td>2024</td>\n",
       "      <td>Februar</td>\n",
       "      <td>79.588</td>\n",
       "      <td>144.455</td>\n",
       "      <td>7.196</td>\n",
       "      <td>23</td>\n",
       "    </tr>\n",
       "    <tr>\n",
       "      <th>2</th>\n",
       "      <td>2024</td>\n",
       "      <td>März</td>\n",
       "      <td>88.380</td>\n",
       "      <td>140.707</td>\n",
       "      <td>8.590</td>\n",
       "      <td>24</td>\n",
       "    </tr>\n",
       "    <tr>\n",
       "      <th>3</th>\n",
       "      <td>2024</td>\n",
       "      <td>April</td>\n",
       "      <td>88.455</td>\n",
       "      <td>140.734</td>\n",
       "      <td>8.058</td>\n",
       "      <td>23</td>\n",
       "    </tr>\n",
       "    <tr>\n",
       "      <th>4</th>\n",
       "      <td>2024</td>\n",
       "      <td>Mai</td>\n",
       "      <td>83.354</td>\n",
       "      <td>133.357</td>\n",
       "      <td>10.052</td>\n",
       "      <td>27</td>\n",
       "    </tr>\n",
       "    <tr>\n",
       "      <th>5</th>\n",
       "      <td>2024</td>\n",
       "      <td>Juni</td>\n",
       "      <td>82.119</td>\n",
       "      <td>128.491</td>\n",
       "      <td>11.786</td>\n",
       "      <td>34</td>\n",
       "    </tr>\n",
       "    <tr>\n",
       "      <th>6</th>\n",
       "      <td>2024</td>\n",
       "      <td>Juli</td>\n",
       "      <td>88.150</td>\n",
       "      <td>127.420</td>\n",
       "      <td>8.502</td>\n",
       "      <td>18</td>\n",
       "    </tr>\n",
       "    <tr>\n",
       "      <th>7</th>\n",
       "      <td>2024</td>\n",
       "      <td>August</td>\n",
       "      <td>66.999</td>\n",
       "      <td>121.466</td>\n",
       "      <td>4.803</td>\n",
       "      <td>7</td>\n",
       "    </tr>\n",
       "    <tr>\n",
       "      <th>8</th>\n",
       "      <td>2024</td>\n",
       "      <td>September</td>\n",
       "      <td>71.121</td>\n",
       "      <td>131.690</td>\n",
       "      <td>9.446</td>\n",
       "      <td>16</td>\n",
       "    </tr>\n",
       "    <tr>\n",
       "      <th>9</th>\n",
       "      <td>2024</td>\n",
       "      <td>Oktober</td>\n",
       "      <td>86.769</td>\n",
       "      <td>140.463</td>\n",
       "      <td>10.064</td>\n",
       "      <td>23</td>\n",
       "    </tr>\n",
       "    <tr>\n",
       "      <th>10</th>\n",
       "      <td>2024</td>\n",
       "      <td>November</td>\n",
       "      <td>93.075</td>\n",
       "      <td>140.583</td>\n",
       "      <td>12.132</td>\n",
       "      <td>24</td>\n",
       "    </tr>\n",
       "    <tr>\n",
       "      <th>11</th>\n",
       "      <td>2024</td>\n",
       "      <td>Dezember</td>\n",
       "      <td>76.450</td>\n",
       "      <td>139.821</td>\n",
       "      <td>9.706</td>\n",
       "      <td>25</td>\n",
       "    </tr>\n",
       "    <tr>\n",
       "      <th>12</th>\n",
       "      <td>2025</td>\n",
       "      <td>Januar</td>\n",
       "      <td>87.182</td>\n",
       "      <td>147.142</td>\n",
       "      <td>7.315</td>\n",
       "      <td>28</td>\n",
       "    </tr>\n",
       "    <tr>\n",
       "      <th>13</th>\n",
       "      <td>2025</td>\n",
       "      <td>Februar</td>\n",
       "      <td>87.263</td>\n",
       "      <td>138.686</td>\n",
       "      <td>9.318</td>\n",
       "      <td>25</td>\n",
       "    </tr>\n",
       "    <tr>\n",
       "      <th>14</th>\n",
       "      <td>2025</td>\n",
       "      <td>März</td>\n",
       "      <td>95.545</td>\n",
       "      <td>144.380</td>\n",
       "      <td>10.729</td>\n",
       "      <td>25</td>\n",
       "    </tr>\n",
       "    <tr>\n",
       "      <th>15</th>\n",
       "      <td>2025</td>\n",
       "      <td>April</td>\n",
       "      <td>90.088</td>\n",
       "      <td>132.856</td>\n",
       "      <td>8.806</td>\n",
       "      <td>26</td>\n",
       "    </tr>\n",
       "    <tr>\n",
       "      <th>16</th>\n",
       "      <td>2025</td>\n",
       "      <td>Mai</td>\n",
       "      <td>93.436</td>\n",
       "      <td>128.355</td>\n",
       "      <td>8.594</td>\n",
       "      <td>18</td>\n",
       "    </tr>\n",
       "    <tr>\n",
       "      <th>17</th>\n",
       "      <td>2025</td>\n",
       "      <td>Juni</td>\n",
       "      <td>109.337</td>\n",
       "      <td>125.192</td>\n",
       "      <td>13.060</td>\n",
       "      <td>22</td>\n",
       "    </tr>\n",
       "    <tr>\n",
       "      <th>18</th>\n",
       "      <td>2025</td>\n",
       "      <td>Juli</td>\n",
       "      <td>102.362</td>\n",
       "      <td>136.833</td>\n",
       "      <td>9.002</td>\n",
       "      <td>22</td>\n",
       "    </tr>\n",
       "  </tbody>\n",
       "</table>\n",
       "</div>"
      ],
      "text/plain": [
       "    Jahr      Monat  Besucher  Entleihungen  Teilnehmer  Azubi+Prak\n",
       "0   2024     Januar    65.661       150.471       5.809          18\n",
       "1   2024    Februar    79.588       144.455       7.196          23\n",
       "2   2024       März    88.380       140.707       8.590          24\n",
       "3   2024      April    88.455       140.734       8.058          23\n",
       "4   2024        Mai    83.354       133.357      10.052          27\n",
       "5   2024       Juni    82.119       128.491      11.786          34\n",
       "6   2024       Juli    88.150       127.420       8.502          18\n",
       "7   2024     August    66.999       121.466       4.803           7\n",
       "8   2024  September    71.121       131.690       9.446          16\n",
       "9   2024    Oktober    86.769       140.463      10.064          23\n",
       "10  2024   November    93.075       140.583      12.132          24\n",
       "11  2024   Dezember    76.450       139.821       9.706          25\n",
       "12  2025     Januar    87.182       147.142       7.315          28\n",
       "13  2025    Februar    87.263       138.686       9.318          25\n",
       "14  2025       März    95.545       144.380      10.729          25\n",
       "15  2025      April    90.088       132.856       8.806          26\n",
       "16  2025        Mai    93.436       128.355       8.594          18\n",
       "17  2025       Juni   109.337       125.192      13.060          22\n",
       "18  2025       Juli   102.362       136.833       9.002          22"
      ]
     },
     "execution_count": 27,
     "metadata": {},
     "output_type": "execute_result"
    }
   ],
   "source": [
    "# Gathering data\n",
    "KLR_2024_2025_df = pd.read_csv('KLR_2024_2025.csv',sep=';')\n",
    "KLR_2024_2025_df"
   ]
  },
  {
   "cell_type": "code",
   "execution_count": 28,
   "metadata": {},
   "outputs": [],
   "source": [
    "# # # conversion datetime\n",
    "# # KLR_2024_2025_df['Datum'] = pd.to_datetime(\n",
    "# #     KLR_2024_2025_df['Datum'],\n",
    "# #     format='%Y-%m',\n",
    "# #     errors='coerce'\n",
    "# )"
   ]
  },
  {
   "cell_type": "code",
   "execution_count": 30,
   "metadata": {},
   "outputs": [
    {
     "data": {
      "text/plain": [
       "Jahr             int64\n",
       "Monat           object\n",
       "Besucher         int64\n",
       "Entleihungen     int64\n",
       "Teilnehmer       int64\n",
       "Azubi+Prak       int64\n",
       "dtype: object"
      ]
     },
     "execution_count": 30,
     "metadata": {},
     "output_type": "execute_result"
    }
   ],
   "source": [
    "# data types conversion en int64\n",
    "KLR_2024_2025_df.astype({\n",
    "    'Besucher': 'int64',\n",
    "    'Entleihungen': 'int64',\n",
    "    'Teilnehmer': 'int64'\n",
    "}).dtypes\n",
    "KLR_2024_2025_df = KLR_2024_2025_df.astype({\n",
    "    'Besucher': 'int64',\n",
    "    'Entleihungen': 'int64',\n",
    "    'Teilnehmer': 'int64'\n",
    "})\n",
    "KLR_2024_2025_df.dtypes"
   ]
  },
  {
   "cell_type": "code",
   "execution_count": 31,
   "metadata": {},
   "outputs": [
    {
     "data": {
      "text/plain": [
       "(19, 6)"
      ]
     },
     "execution_count": 31,
     "metadata": {},
     "output_type": "execute_result"
    }
   ],
   "source": [
    "KLR_2024_2025_df.shape"
   ]
  },
  {
   "cell_type": "code",
   "execution_count": 34,
   "metadata": {},
   "outputs": [],
   "source": [
    "# S'assurer que les valeurs de Monat sont propres\n",
    "KLR_2024_2025_df[\"Monat\"] = KLR_2024_2025_df[\"Monat\"].astype(str).str.strip()\n",
    "\n",
    "# Réexporter en CSV sans BOM et avec séparateur ;\n",
    "KLR_2024_2025_df.to_csv(\"KLR_2024_2025.csv\", index=False, sep=\";\", encoding=\"utf-8\")\n"
   ]
  },
  {
   "cell_type": "code",
   "execution_count": 35,
   "metadata": {},
   "outputs": [
    {
     "data": {
      "text/plain": [
       "Jahr             int64\n",
       "Monat           object\n",
       "Besucher         int64\n",
       "Entleihungen     int64\n",
       "Teilnehmer       int64\n",
       "Azubi+Prak       int64\n",
       "dtype: object"
      ]
     },
     "execution_count": 35,
     "metadata": {},
     "output_type": "execute_result"
    }
   ],
   "source": [
    "KLR_2024_2025_df.dtypes"
   ]
  }
 ],
 "metadata": {
  "kernelspec": {
   "display_name": "CodeAcademyBasics",
   "language": "python",
   "name": "python3"
  },
  "language_info": {
   "codemirror_mode": {
    "name": "ipython",
    "version": 3
   },
   "file_extension": ".py",
   "mimetype": "text/x-python",
   "name": "python",
   "nbconvert_exporter": "python",
   "pygments_lexer": "ipython3",
   "version": "3.12.2"
  }
 },
 "nbformat": 4,
 "nbformat_minor": 2
}
